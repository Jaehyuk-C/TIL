{
  "nbformat": 4,
  "nbformat_minor": 0,
  "metadata": {
    "colab": {
      "name": "code03.ipynb",
      "provenance": []
    },
    "kernelspec": {
      "name": "python3",
      "display_name": "Python 3"
    },
    "language_info": {
      "name": "python"
    }
  },
  "cells": [
    {
      "cell_type": "markdown",
      "metadata": {
        "id": "Gn7HQ9YJ96In"
      },
      "source": [
        "## 선형 리스트\n",
        "- 데이터셋의 크기가 작을 때 적합하다"
      ]
    },
    {
      "cell_type": "code",
      "metadata": {
        "colab": {
          "base_uri": "https://localhost:8080/"
        },
        "id": "V6cRff_OeYMm",
        "outputId": "14ecf814-e799-4915-ccd7-527978e66ba6"
      },
      "source": [
        "katok = []\n",
        "\n",
        "def add_data(friend):   # 새 친구 추가 함수\n",
        "    katok.append(None)\n",
        "    k_len = len(katok)\n",
        "    katok[k_len - 1] = friend\n",
        "\n",
        "add_data('다현')\n",
        "add_data('정현')\n",
        "add_data('쯔위')\n",
        "add_data('사나')\n",
        "add_data('모모')\n",
        "\n",
        "print(katok)"
      ],
      "execution_count": null,
      "outputs": [
        {
          "output_type": "stream",
          "text": [
            "['다현', '정현', '쯔위', '사나', '모모']\n"
          ],
          "name": "stdout"
        }
      ]
    },
    {
      "cell_type": "code",
      "metadata": {
        "colab": {
          "base_uri": "https://localhost:8080/"
        },
        "id": "iclj_hNmgCFO",
        "outputId": "3184c0e5-ea89-4f90-c85b-2d0caaad4bda"
      },
      "source": [
        "katok = ['다현', '정현', '쯔위', '사나', '지효', '모모']\n",
        "\n",
        "def insert_data(position, friend):  # 삽입 함수\n",
        "    \n",
        "    katok.append(None)\n",
        "    k_len = len(katok)\n",
        "\n",
        "    for i in range(k_len-1, position, -1):\n",
        "        katok[i] = katok[i-1]\n",
        "        katok[i-1] = None\n",
        "    katok[position] = friend\n",
        "\n",
        "insert_data(2, '솔라')\n",
        "print(katok)\n",
        "insert_data(6, '문별')\n",
        "print(katok)"
      ],
      "execution_count": 5,
      "outputs": [
        {
          "output_type": "stream",
          "text": [
            "['다현', '정현', '솔라', '쯔위', '사나', '지효', '모모']\n",
            "['다현', '정현', '솔라', '쯔위', '사나', '지효', '문별', '모모']\n"
          ],
          "name": "stdout"
        }
      ]
    },
    {
      "cell_type": "code",
      "metadata": {
        "colab": {
          "base_uri": "https://localhost:8080/"
        },
        "id": "vX2tbZ0zitFU",
        "outputId": "3e3892e2-94b9-4ada-d2eb-bcd7667d35ef"
      },
      "source": [
        "katok = ['다현', '정현', '쯔위', '사나', '지효', '모모']\n",
        "\n",
        "def delete_data(position):  # 친구 삭제 함수\n",
        "    k_len = len(katok)\n",
        "    katok[position] = None\n",
        "\n",
        "    for i in range(position+1, k_len, 1):\n",
        "        katok[i-1] = katok[i]\n",
        "        katok[i] = None\n",
        "\n",
        "    del(katok[k_len-1])\n",
        "\n",
        "delete_data(1)\n",
        "print(katok)\n",
        "delete_data(3)\n",
        "print(katok)"
      ],
      "execution_count": 12,
      "outputs": [
        {
          "output_type": "stream",
          "text": [
            "['다현', '쯔위', '사나', '지효', '모모']\n",
            "['다현', '쯔위', '사나', '모모']\n"
          ],
          "name": "stdout"
        }
      ]
    },
    {
      "cell_type": "code",
      "metadata": {
        "colab": {
          "base_uri": "https://localhost:8080/"
        },
        "id": "iNdOwTTXk51X",
        "outputId": "f685b069-f47d-4a06-f604-8cf9ee2c889c"
      },
      "source": [
        "## 함수 선언부\n",
        "\n",
        "def add_data(friend):   # 새 친구 추가 함수\n",
        "    katok.append(None)\n",
        "    k_len = len(katok)\n",
        "    katok[k_len - 1] = friend\n",
        "\n",
        "def insert_data(position, friend):  # 삽입 함수\n",
        "    \n",
        "    katok.append(None)\n",
        "    k_len = len(katok)\n",
        "\n",
        "    for i in range(k_len-1, position, -1):\n",
        "        katok[i] = katok[i-1]\n",
        "        katok[i-1] = None\n",
        "    katok[position] = friend\n",
        "\n",
        "def delete_data(position):  # 친구 삭제 함수\n",
        "    k_len = len(katok)\n",
        "    katok[position] = None\n",
        "\n",
        "    for i in range(position+1, k_len, 1):\n",
        "        katok[i-1] = katok[i]\n",
        "        katok[i] = None\n",
        "\n",
        "    del(katok[k_len-1])\n",
        "\n",
        "\n",
        "## 전역 변수부\n",
        "\n",
        "katok = ['다현', '정현', '쯔위', '사나', '지효', '모모']\n",
        "select = -1     # 1은 추가 / 2는 삽입 / 3은 삭제 / 4는 종료\n",
        "\n",
        "\n",
        "## 메인 코드부\n",
        "while (select != 4): \n",
        "    select = int(input('1추가, 2삽입, 3삭제, 4종료 --> '))\n",
        "\n",
        "    if select == 1:\n",
        "        data = input('추가할 데이터 --> ')\n",
        "        add_data(data)\n",
        "        print(katok)\n",
        "        pass\n",
        "\n",
        "    elif select == 2:\n",
        "        position = int(input('추가할 위치 --> '))\n",
        "        data = input('추가할 데이터 --> ')\n",
        "        insert_data(position, data)\n",
        "        print(katok)\n",
        "        pass\n",
        "\n",
        "    elif select == 3:\n",
        "        position = int(input('삭제할 위치 --> '))\n",
        "        delete_data(position)\n",
        "        print(katok)\n",
        "        pass\n",
        "\n",
        "    elif select == 4:\n",
        "        print(katok)\n",
        "        exit\n",
        "    else:\n",
        "        print('1~4중 하나를 입력하세요: ')\n",
        "        continue\n"
      ],
      "execution_count": 6,
      "outputs": [
        {
          "output_type": "stream",
          "text": [
            "1추가, 2삽입, 3삭제, 4종료 --> 3\n",
            "삭제할 위치 --> 3\n",
            "['다현', '정현', '쯔위', '지효', '모모']\n",
            "1추가, 2삽입, 3삭제, 4종료 --> 2\n",
            "추가할 위치 --> 1\n",
            "추가할 데이터 --> 지호\n",
            "['다현', '지호', '정현', '쯔위', '지효', '모모']\n",
            "1추가, 2삽입, 3삭제, 4종료 --> 4\n",
            "['다현', '지호', '정현', '쯔위', '지효', '모모']\n"
          ],
          "name": "stdout"
        }
      ]
    },
    {
      "cell_type": "markdown",
      "metadata": {
        "id": "q-8hveWM94sx"
      },
      "source": [
        "## 단순 연결 리스트\n",
        "- 데이터 삽입 삭제시에 오버헤드가 일어나지 않는다"
      ]
    },
    {
      "cell_type": "code",
      "metadata": {
        "colab": {
          "base_uri": "https://localhost:8080/"
        },
        "id": "v2ldX2t--AAv",
        "outputId": "4f5159b1-fc12-40bc-8144-5f8112e50b64"
      },
      "source": [
        "class Node():\n",
        "    def __init__(self):\n",
        "        self.data = None\n",
        "        self.link = None\n",
        "\n",
        "node1 = Node()\n",
        "node1.data = '다현'\n",
        "\n",
        "node2 = Node()\n",
        "node2.data = '정연'\n",
        "node1.link = node2\n",
        "\n",
        "node3 = Node()\n",
        "node3.data = '쯔위'\n",
        "node2.link = node3\n",
        "\n",
        "node4 = Node()\n",
        "node4.data = '사나'\n",
        "node3.link = node4\n",
        "\n",
        "node5 = Node()\n",
        "node5.data = '지효'\n",
        "node4.link = node5\n",
        "\n",
        "print(node1.data, end='   ')\n",
        "print(node1.link.data, end='   ')\n",
        "print(node1.link.link.data, end='   ')\n",
        "print(node1.link.link.link.data, end='   ')\n",
        "print(node1.link.link.link.link.data, end='   ')       # 이렇게 출력 잘 안함\n",
        "\n",
        "print(f'\\n')\n",
        "\n",
        "current = node1\n",
        "print(current.data, end='   ')\n",
        "while (current.link != None) :\n",
        "    current = current.link\n",
        "    print(current.data, end='   ')\n"
      ],
      "execution_count": 16,
      "outputs": [
        {
          "output_type": "stream",
          "text": [
            "다현   정연   쯔위   사나   지효   \n",
            "\n",
            "다현   정연   쯔위   사나   지효   "
          ],
          "name": "stdout"
        }
      ]
    },
    {
      "cell_type": "code",
      "metadata": {
        "colab": {
          "base_uri": "https://localhost:8080/"
        },
        "id": "4Tq-WjqJGWRC",
        "outputId": "1568a934-56fa-43d4-c7a5-a912c678abab"
      },
      "source": [
        "## 함수 선언부\n",
        "\n",
        "class Node():\n",
        "    def __init__(self):\n",
        "        self.data = None\n",
        "        self.link = None\n",
        "def printNodes(start):\n",
        "    current = start\n",
        "    print(current.data, end='   ')\n",
        "    while (current.link != None) :\n",
        "        current = current.link\n",
        "        print(current.data, end='   ')\n",
        "    print()\n",
        "\n",
        "def insertNode(findData, insertData):\n",
        "    global memory, head, pre, current\n",
        "\n",
        "    if head.data == findData:       # 노드 맨 앞에 삽입\n",
        "        node = Node()\n",
        "        node.data = insertData\n",
        "        node.link = head\n",
        "        head = node\n",
        "        memory.append(node)\n",
        "        return\n",
        "\n",
        "    current = head                  # 중간 삽입\n",
        "    while current.link != None:\n",
        "        pre = current\n",
        "        current = current.link\n",
        "        if current.data == findData:\n",
        "            node = Node()\n",
        "            node.data = insertData\n",
        "            node.link = current\n",
        "            pre.link = node\n",
        "            return\n",
        "    \n",
        "    node = Node()                   # 맨 끝 삽입\n",
        "    node.data = insertData\n",
        "    current.link = node\n",
        "    memory.append(node)\n",
        "    return\n",
        "\n",
        "def deleteNode(deleteData):\n",
        "    global memory, head, pre, current\n",
        "\n",
        "    if head.data == deleteData :\n",
        "        current = head\n",
        "        head = head.link\n",
        "        del(current)\n",
        "        return\n",
        "    \n",
        "    current = head\n",
        "    while current.link != None :\n",
        "        pre = current\n",
        "        current = current.link\n",
        "        if current.data == deleteData :\n",
        "            pre.link = current.link\n",
        "            del(current)\n",
        "            return\n",
        "\n",
        "def findNode(findData) :\n",
        "    global memory, head, pre, current\n",
        "\n",
        "    current = head\n",
        "    if current.data == findData :\n",
        "        return current\n",
        "    while current.link != None : \n",
        "        current = current.link\n",
        "        if current.data == findData :\n",
        "            return current\n",
        "    return Node()   \n",
        "\n",
        "\n",
        "\n",
        "\n",
        "## 전역 변수부\n",
        "memory = []     # 노드를 저장할 공간\n",
        "head, pre, current = None, None, None\n",
        "data_array = ['다현', '정현', '쯔위', '사나', '지효', '모모']\n",
        "\n",
        "## 메인 코드부\n",
        "\n",
        "node = Node()\n",
        "node.data = data_array[0]\n",
        "head = node\n",
        "memory.append(node)\n",
        "for data in data_array[1:]:\n",
        "    pre = node\n",
        "    node = Node()\n",
        "    node.data = data\n",
        "    pre.link = node\n",
        "    memory.append(node)\n",
        "\n",
        "printNodes(head)\n",
        "\n",
        "insertNode('다현', '화사')\n",
        "printNodes(head)\n",
        "insertNode('사나', '솔라')\n",
        "printNodes(head)\n",
        "insertNode('재남', '문별')\n",
        "printNodes(head)\n",
        "\n",
        "deleteNode('다현')\n",
        "printNodes(head)\n",
        "deleteNode('쯔위')\n",
        "printNodes(head)\n",
        "deleteNode('재남')\n",
        "printNodes(head)\n",
        "\n",
        "print('----------------')\n",
        "\n",
        "findNode('모모')\n",
        "printNodes(head)"
      ],
      "execution_count": 29,
      "outputs": [
        {
          "output_type": "stream",
          "text": [
            "다현   정현   쯔위   사나   지효   모모   \n",
            "화사   다현   정현   쯔위   사나   지효   모모   \n",
            "화사   다현   정현   쯔위   솔라   사나   지효   모모   \n",
            "화사   다현   정현   쯔위   솔라   사나   지효   모모   문별   \n",
            "화사   정현   쯔위   솔라   사나   지효   모모   문별   \n",
            "화사   정현   솔라   사나   지효   모모   문별   \n",
            "화사   정현   솔라   사나   지효   모모   문별   \n",
            "----------------\n",
            "화사   정현   솔라   사나   지효   모모   문별   \n"
          ],
          "name": "stdout"
        }
      ]
    },
    {
      "cell_type": "code",
      "metadata": {
        "colab": {
          "base_uri": "https://localhost:8080/"
        },
        "id": "8ZlITFP7OAAQ",
        "outputId": "5ac14984-9042-4645-fcec-74a3d1571a5d"
      },
      "source": [
        "# 카페에서 긁어온 글\n",
        "\n",
        "## 함수 선언부\n",
        "class  Node() :\n",
        "    def __init__(self):\n",
        "        self.data = None\n",
        "        self.link = None\n",
        "def printNodes(start) :\n",
        "    current = start\n",
        "    print(current.data, end=' ')\n",
        "    while (current.link != None):\n",
        "        current = current.link\n",
        "        print(current.data, end=' ')\n",
        "    print()\n",
        "def insertNode(findData, insertData) :\n",
        "    global memory, head, current, pre\n",
        "    if head.data == findData : # 첫노드 앞에 삽입\n",
        "        node = Node()\n",
        "        node.data = insertData\n",
        "        node.link = head\n",
        "        head = node\n",
        "        memory.append(node)\n",
        "        return\n",
        "    current = head\n",
        "    while current.link != None :\n",
        "        pre = current\n",
        "        current = current.link\n",
        "        if  current.data == findData :\n",
        "            node = Node()\n",
        "            node.data = insertData\n",
        "            node.link = current\n",
        "            pre.link = node\n",
        "            memory.append(node)\n",
        "            return\n",
        "    node = Node() # 마지막 노드에 삽입\n",
        "    node.data = insertData\n",
        "    current.link = node\n",
        "    memory.append(node)\n",
        "    return\n",
        "def deleteNode(deleteData) :\n",
        "    global memory, head, current, pre\n",
        "    if head.data == deleteData :\n",
        "        current = head\n",
        "        head = head.link\n",
        "        del(current)\n",
        "        return\n",
        "    current  = head\n",
        "    while current.link != None :\n",
        "        pre = current\n",
        "        current = current.link\n",
        "        if current.data == deleteData :\n",
        "            pre.link = current.link\n",
        "            del(current)\n",
        "            return\n",
        "def findNode(findData) :\n",
        "    global memory, head, current, pre\n",
        "\n",
        "## 전역 변수부\n",
        "memory = [] # 노드를 저장할 공간\n",
        "head, current, pre = None, None, None\n",
        "dataArray = ['다현', '정연', '쯔위', '사나', '지효']\n",
        "## 메인 코드부\n",
        "node = Node()   # 첫번째 노드\n",
        "node.data = dataArray[0]\n",
        "head = node\n",
        "memory.append(node)\n",
        "for data in dataArray[1:] : # ['정연', '쯔위', '사나', '지효']\n",
        "    pre = node\n",
        "    node = Node()\n",
        "    node.data = data\n",
        "    pre.link = node\n",
        "    memory.append(node)\n",
        "printNodes(head)\n",
        "\n",
        "# insertNode('다현', '화사')\n",
        "# printNodes(head)\n",
        "# insertNode('사나', '솔라')\n",
        "# printNodes(head)\n",
        "# insertNode('재남', '문별')\n",
        "# printNodes(head)\n",
        "\n",
        "deleteNode('다현')\n",
        "printNodes(head)\n",
        "deleteNode('쯔위')\n",
        "printNodes(head)\n",
        "deleteNode('재남')\n",
        "printNodes(head)"
      ],
      "execution_count": null,
      "outputs": [
        {
          "output_type": "stream",
          "text": [
            "다현   정현   쯔위   사나   지효   모모   "
          ],
          "name": "stdout"
        }
      ]
    }
  ]
}